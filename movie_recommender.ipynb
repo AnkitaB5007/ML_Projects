{
 "cells": [
  {
   "cell_type": "code",
   "execution_count": 1,
   "id": "bec51b7f-9bd9-4320-a41d-dd30437e56f6",
   "metadata": {},
   "outputs": [],
   "source": [
    "#!/bin/bash\n",
    "#curl -L -o ./netflix-shows.zip https://www.kaggle.com/api/v1/datasets/download/shivamb/netflix-shows"
   ]
  },
  {
   "cell_type": "markdown",
   "id": "2400f2e0-899c-4ae7-9c6d-c61ecfa1b063",
   "metadata": {},
   "source": [
    "##### - Load the dataset \n",
    "##### - view the dataframe\n",
    "##### - Select useful columns required for the task\n",
    "##### - Data preprocessing"
   ]
  },
  {
   "cell_type": "code",
   "execution_count": 2,
   "id": "31379ba4-bf55-4aa9-8665-83887f77d6b8",
   "metadata": {},
   "outputs": [],
   "source": [
    "import pandas as pd\n",
    "import numpy as np"
   ]
  },
  {
   "cell_type": "code",
   "execution_count": 3,
   "id": "6242aed3-abf5-48fd-a3c6-793d53e7734b",
   "metadata": {},
   "outputs": [],
   "source": [
    "netflix = pd.read_csv(\"/ds/text/netflix/netflix_titles.csv\")"
   ]
  },
  {
   "cell_type": "code",
   "execution_count": 4,
   "id": "37b2c847-2480-4df6-9589-cc794e3bbeeb",
   "metadata": {},
   "outputs": [
    {
     "data": {
      "text/html": [
       "<div>\n",
       "<style scoped>\n",
       "    .dataframe tbody tr th:only-of-type {\n",
       "        vertical-align: middle;\n",
       "    }\n",
       "\n",
       "    .dataframe tbody tr th {\n",
       "        vertical-align: top;\n",
       "    }\n",
       "\n",
       "    .dataframe thead th {\n",
       "        text-align: right;\n",
       "    }\n",
       "</style>\n",
       "<table border=\"1\" class=\"dataframe\">\n",
       "  <thead>\n",
       "    <tr style=\"text-align: right;\">\n",
       "      <th></th>\n",
       "      <th>show_id</th>\n",
       "      <th>type</th>\n",
       "      <th>title</th>\n",
       "      <th>director</th>\n",
       "      <th>cast</th>\n",
       "      <th>country</th>\n",
       "      <th>date_added</th>\n",
       "      <th>release_year</th>\n",
       "      <th>rating</th>\n",
       "      <th>duration</th>\n",
       "      <th>listed_in</th>\n",
       "      <th>description</th>\n",
       "    </tr>\n",
       "  </thead>\n",
       "  <tbody>\n",
       "    <tr>\n",
       "      <th>0</th>\n",
       "      <td>s1</td>\n",
       "      <td>Movie</td>\n",
       "      <td>Dick Johnson Is Dead</td>\n",
       "      <td>Kirsten Johnson</td>\n",
       "      <td>NaN</td>\n",
       "      <td>United States</td>\n",
       "      <td>September 25, 2021</td>\n",
       "      <td>2020</td>\n",
       "      <td>PG-13</td>\n",
       "      <td>90 min</td>\n",
       "      <td>Documentaries</td>\n",
       "      <td>As her father nears the end of his life, filmm...</td>\n",
       "    </tr>\n",
       "    <tr>\n",
       "      <th>1</th>\n",
       "      <td>s2</td>\n",
       "      <td>TV Show</td>\n",
       "      <td>Blood &amp; Water</td>\n",
       "      <td>NaN</td>\n",
       "      <td>Ama Qamata, Khosi Ngema, Gail Mabalane, Thaban...</td>\n",
       "      <td>South Africa</td>\n",
       "      <td>September 24, 2021</td>\n",
       "      <td>2021</td>\n",
       "      <td>TV-MA</td>\n",
       "      <td>2 Seasons</td>\n",
       "      <td>International TV Shows, TV Dramas, TV Mysteries</td>\n",
       "      <td>After crossing paths at a party, a Cape Town t...</td>\n",
       "    </tr>\n",
       "  </tbody>\n",
       "</table>\n",
       "</div>"
      ],
      "text/plain": [
       "  show_id     type                 title         director  \\\n",
       "0      s1    Movie  Dick Johnson Is Dead  Kirsten Johnson   \n",
       "1      s2  TV Show         Blood & Water              NaN   \n",
       "\n",
       "                                                cast        country  \\\n",
       "0                                                NaN  United States   \n",
       "1  Ama Qamata, Khosi Ngema, Gail Mabalane, Thaban...   South Africa   \n",
       "\n",
       "           date_added  release_year rating   duration  \\\n",
       "0  September 25, 2021          2020  PG-13     90 min   \n",
       "1  September 24, 2021          2021  TV-MA  2 Seasons   \n",
       "\n",
       "                                         listed_in  \\\n",
       "0                                    Documentaries   \n",
       "1  International TV Shows, TV Dramas, TV Mysteries   \n",
       "\n",
       "                                         description  \n",
       "0  As her father nears the end of his life, filmm...  \n",
       "1  After crossing paths at a party, a Cape Town t...  "
      ]
     },
     "execution_count": 4,
     "metadata": {},
     "output_type": "execute_result"
    }
   ],
   "source": [
    "netflix.head(2)"
   ]
  },
  {
   "cell_type": "code",
   "execution_count": 5,
   "id": "1ff06587-8bfa-48a7-9f0e-51909e3a72aa",
   "metadata": {},
   "outputs": [
    {
     "name": "stdout",
     "output_type": "stream",
     "text": [
      "<class 'pandas.core.frame.DataFrame'>\n",
      "RangeIndex: 8807 entries, 0 to 8806\n",
      "Data columns (total 12 columns):\n",
      " #   Column        Non-Null Count  Dtype \n",
      "---  ------        --------------  ----- \n",
      " 0   show_id       8807 non-null   object\n",
      " 1   type          8807 non-null   object\n",
      " 2   title         8807 non-null   object\n",
      " 3   director      6173 non-null   object\n",
      " 4   cast          7982 non-null   object\n",
      " 5   country       7976 non-null   object\n",
      " 6   date_added    8797 non-null   object\n",
      " 7   release_year  8807 non-null   int64 \n",
      " 8   rating        8803 non-null   object\n",
      " 9   duration      8804 non-null   object\n",
      " 10  listed_in     8807 non-null   object\n",
      " 11  description   8807 non-null   object\n",
      "dtypes: int64(1), object(11)\n",
      "memory usage: 825.8+ KB\n"
     ]
    }
   ],
   "source": [
    "netflix.info()"
   ]
  },
  {
   "cell_type": "code",
   "execution_count": 6,
   "id": "761e2acb-1512-4d7f-8235-cc6e7148e68b",
   "metadata": {},
   "outputs": [
    {
     "data": {
      "text/plain": [
       "show_id            0\n",
       "type               0\n",
       "title              0\n",
       "director        2634\n",
       "cast             825\n",
       "country          831\n",
       "date_added        10\n",
       "release_year       0\n",
       "rating             4\n",
       "duration           3\n",
       "listed_in          0\n",
       "description        0\n",
       "dtype: int64"
      ]
     },
     "execution_count": 6,
     "metadata": {},
     "output_type": "execute_result"
    }
   ],
   "source": [
    "netflix.isnull().sum()"
   ]
  },
  {
   "cell_type": "code",
   "execution_count": 7,
   "id": "74ad4c56-e481-4cf4-80a6-5ba6f6d58257",
   "metadata": {},
   "outputs": [
    {
     "data": {
      "text/plain": [
       "748"
      ]
     },
     "execution_count": 7,
     "metadata": {},
     "output_type": "execute_result"
    }
   ],
   "source": [
    "netflix['country'].nunique()"
   ]
  },
  {
   "cell_type": "code",
   "execution_count": 8,
   "id": "ae8014ad-b201-4a35-82de-9cc90c3b08d0",
   "metadata": {},
   "outputs": [],
   "source": [
    "shows = netflix.loc[netflix['type']=='TV Show',['title','cast','country','listed_in', 'description']]\n",
    "movies = netflix.loc[netflix['type']=='Movie',['title','director','cast','country','listed_in', 'description']]"
   ]
  },
  {
   "cell_type": "code",
   "execution_count": 9,
   "id": "2dc769fa-ebda-4f80-9369-3ffa3df90492",
   "metadata": {},
   "outputs": [
    {
     "data": {
      "text/plain": [
       "title            0\n",
       "cast           350\n",
       "country        391\n",
       "listed_in        0\n",
       "description      0\n",
       "dtype: int64"
      ]
     },
     "execution_count": 9,
     "metadata": {},
     "output_type": "execute_result"
    }
   ],
   "source": [
    "shows.isnull().sum()"
   ]
  },
  {
   "cell_type": "code",
   "execution_count": 10,
   "id": "d7e30223-079e-41c2-9a5d-27b4bc4b8596",
   "metadata": {},
   "outputs": [],
   "source": [
    "shows.dropna(inplace=True)"
   ]
  },
  {
   "cell_type": "code",
   "execution_count": 11,
   "id": "c30ffb7b-17bf-41b1-89e4-4ce885da9ddd",
   "metadata": {},
   "outputs": [
    {
     "name": "stdout",
     "output_type": "stream",
     "text": [
      "<class 'pandas.core.frame.DataFrame'>\n",
      "Index: 2024 entries, 1 to 8800\n",
      "Data columns (total 5 columns):\n",
      " #   Column       Non-Null Count  Dtype \n",
      "---  ------       --------------  ----- \n",
      " 0   title        2024 non-null   object\n",
      " 1   cast         2024 non-null   object\n",
      " 2   country      2024 non-null   object\n",
      " 3   listed_in    2024 non-null   object\n",
      " 4   description  2024 non-null   object\n",
      "dtypes: object(5)\n",
      "memory usage: 94.9+ KB\n"
     ]
    }
   ],
   "source": [
    "shows.info()"
   ]
  },
  {
   "cell_type": "code",
   "execution_count": 12,
   "id": "401b2b34-ece1-432e-983a-7a00115ae871",
   "metadata": {},
   "outputs": [
    {
     "data": {
      "text/plain": [
       "np.int64(0)"
      ]
     },
     "execution_count": 12,
     "metadata": {},
     "output_type": "execute_result"
    }
   ],
   "source": [
    "shows.duplicated().sum()"
   ]
  },
  {
   "cell_type": "code",
   "execution_count": 13,
   "id": "0743aa17-95c8-4890-b548-670c5e0078d5",
   "metadata": {},
   "outputs": [
    {
     "data": {
      "text/plain": [
       "title            0\n",
       "director       188\n",
       "cast           475\n",
       "country        440\n",
       "listed_in        0\n",
       "description      0\n",
       "dtype: int64"
      ]
     },
     "execution_count": 13,
     "metadata": {},
     "output_type": "execute_result"
    }
   ],
   "source": [
    "movies.isnull().sum()"
   ]
  },
  {
   "cell_type": "code",
   "execution_count": 14,
   "id": "e5a8d3d6-5bb5-4871-927e-378ca41e0f2e",
   "metadata": {},
   "outputs": [
    {
     "data": {
      "text/plain": [
       "np.int64(0)"
      ]
     },
     "execution_count": 14,
     "metadata": {},
     "output_type": "execute_result"
    }
   ],
   "source": [
    "movies.duplicated().sum()"
   ]
  },
  {
   "cell_type": "code",
   "execution_count": 15,
   "id": "c1326a26-c9dc-4db4-8097-ba884ba1d675",
   "metadata": {},
   "outputs": [],
   "source": [
    "movies.dropna(inplace=True)"
   ]
  },
  {
   "cell_type": "code",
   "execution_count": 16,
   "id": "7a89419b-2c74-4a56-80fa-f9b87b6a025c",
   "metadata": {},
   "outputs": [
    {
     "name": "stdout",
     "output_type": "stream",
     "text": [
      "<class 'pandas.core.frame.DataFrame'>\n",
      "Index: 5189 entries, 7 to 8806\n",
      "Data columns (total 6 columns):\n",
      " #   Column       Non-Null Count  Dtype \n",
      "---  ------       --------------  ----- \n",
      " 0   title        5189 non-null   object\n",
      " 1   director     5189 non-null   object\n",
      " 2   cast         5189 non-null   object\n",
      " 3   country      5189 non-null   object\n",
      " 4   listed_in    5189 non-null   object\n",
      " 5   description  5189 non-null   object\n",
      "dtypes: object(6)\n",
      "memory usage: 283.8+ KB\n"
     ]
    }
   ],
   "source": [
    "movies.info()"
   ]
  },
  {
   "cell_type": "code",
   "execution_count": 17,
   "id": "2abc26ac-dfde-425e-8978-5fb5f5f9969c",
   "metadata": {},
   "outputs": [],
   "source": [
    "shows['description'] = shows['description'].apply(lambda x:x.split())"
   ]
  },
  {
   "cell_type": "code",
   "execution_count": 18,
   "id": "99637ea7-a05f-421c-af38-414902f5dbf9",
   "metadata": {},
   "outputs": [
    {
     "data": {
      "text/plain": [
       "1       [After, crossing, paths, at, a, party,, a, Cap...\n",
       "4       [In, a, city, of, coaching, centers, known, to...\n",
       "8       [A, talented, batch, of, amateur, bakers, face...\n",
       "15      [Students, of, color, navigate, the, daily, sl...\n",
       "17      [Strangers, Diego, and, Isabel, flee, their, h...\n",
       "                              ...                        \n",
       "8780    [Nate, frees, a, mythical, being, trapped, in,...\n",
       "8795    [Now, that, he's, discovered, the, Pendulum, S...\n",
       "8796    [During, the, Mongol, invasions,, Yunus, Emre,...\n",
       "8797    [Teen, surfer, Zak, Storm, is, mysteriously, t...\n",
       "8800    [Strong-willed,, middle-class, Kashaf, and, ca...\n",
       "Name: description, Length: 2024, dtype: object"
      ]
     },
     "execution_count": 18,
     "metadata": {},
     "output_type": "execute_result"
    }
   ],
   "source": [
    "shows['description']"
   ]
  },
  {
   "cell_type": "code",
   "execution_count": 19,
   "id": "1430f01a-f5f4-497c-8d2e-4c65268a88ca",
   "metadata": {},
   "outputs": [
    {
     "data": {
      "text/plain": [
       "7       [On, a, photo, shoot, in, Ghana,, an, American...\n",
       "9       [A, woman, adjusting, to, life, after, a, loss...\n",
       "12      [After, most, of, her, family, is, murdered, i...\n",
       "24      [When, the, father, of, the, man, she, loves, ...\n",
       "27      [Mourning, the, loss, of, their, beloved, juni...\n",
       "                              ...                        \n",
       "8801    [Recovering, alcoholic, Talal, wakes, up, insi...\n",
       "8802    [A, political, cartoonist,, a, crime, reporter...\n",
       "8804    [Looking, to, survive, in, a, world, taken, ov...\n",
       "8805    [Dragged, from, civilian, life,, a, former, su...\n",
       "8806    [A, scrappy, but, poor, boy, worms, his, way, ...\n",
       "Name: description, Length: 5189, dtype: object"
      ]
     },
     "execution_count": 19,
     "metadata": {},
     "output_type": "execute_result"
    }
   ],
   "source": [
    "movies['description']= movies['description'].apply(lambda x:x.split())\n",
    "movies['description']"
   ]
  },
  {
   "cell_type": "code",
   "execution_count": 20,
   "id": "d7140313-a4f8-415a-aecc-0ca39709d9ab",
   "metadata": {},
   "outputs": [
    {
     "data": {
      "text/html": [
       "<div>\n",
       "<style scoped>\n",
       "    .dataframe tbody tr th:only-of-type {\n",
       "        vertical-align: middle;\n",
       "    }\n",
       "\n",
       "    .dataframe tbody tr th {\n",
       "        vertical-align: top;\n",
       "    }\n",
       "\n",
       "    .dataframe thead th {\n",
       "        text-align: right;\n",
       "    }\n",
       "</style>\n",
       "<table border=\"1\" class=\"dataframe\">\n",
       "  <thead>\n",
       "    <tr style=\"text-align: right;\">\n",
       "      <th></th>\n",
       "      <th>title</th>\n",
       "      <th>director</th>\n",
       "      <th>cast</th>\n",
       "      <th>country</th>\n",
       "      <th>listed_in</th>\n",
       "      <th>description</th>\n",
       "    </tr>\n",
       "  </thead>\n",
       "  <tbody>\n",
       "    <tr>\n",
       "      <th>7</th>\n",
       "      <td>Sankofa</td>\n",
       "      <td>Haile Gerima</td>\n",
       "      <td>Kofi Ghanaba, Oyafunmike Ogunlano, Alexandra D...</td>\n",
       "      <td>United States, Ghana, Burkina Faso, United Kin...</td>\n",
       "      <td>Dramas, Independent Movies, International Movies</td>\n",
       "      <td>[On, a, photo, shoot, in, Ghana,, an, American...</td>\n",
       "    </tr>\n",
       "    <tr>\n",
       "      <th>9</th>\n",
       "      <td>The Starling</td>\n",
       "      <td>Theodore Melfi</td>\n",
       "      <td>Melissa McCarthy, Chris O'Dowd, Kevin Kline, T...</td>\n",
       "      <td>United States</td>\n",
       "      <td>Comedies, Dramas</td>\n",
       "      <td>[A, woman, adjusting, to, life, after, a, loss...</td>\n",
       "    </tr>\n",
       "  </tbody>\n",
       "</table>\n",
       "</div>"
      ],
      "text/plain": [
       "          title        director  \\\n",
       "7       Sankofa    Haile Gerima   \n",
       "9  The Starling  Theodore Melfi   \n",
       "\n",
       "                                                cast  \\\n",
       "7  Kofi Ghanaba, Oyafunmike Ogunlano, Alexandra D...   \n",
       "9  Melissa McCarthy, Chris O'Dowd, Kevin Kline, T...   \n",
       "\n",
       "                                             country  \\\n",
       "7  United States, Ghana, Burkina Faso, United Kin...   \n",
       "9                                      United States   \n",
       "\n",
       "                                          listed_in  \\\n",
       "7  Dramas, Independent Movies, International Movies   \n",
       "9                                  Comedies, Dramas   \n",
       "\n",
       "                                         description  \n",
       "7  [On, a, photo, shoot, in, Ghana,, an, American...  \n",
       "9  [A, woman, adjusting, to, life, after, a, loss...  "
      ]
     },
     "execution_count": 20,
     "metadata": {},
     "output_type": "execute_result"
    }
   ],
   "source": [
    "movies.head(2)"
   ]
  },
  {
   "cell_type": "code",
   "execution_count": 21,
   "id": "c0b3ad1d-3a9f-4220-a4a7-f01a40c20039",
   "metadata": {},
   "outputs": [
    {
     "data": {
      "text/html": [
       "<div>\n",
       "<style scoped>\n",
       "    .dataframe tbody tr th:only-of-type {\n",
       "        vertical-align: middle;\n",
       "    }\n",
       "\n",
       "    .dataframe tbody tr th {\n",
       "        vertical-align: top;\n",
       "    }\n",
       "\n",
       "    .dataframe thead th {\n",
       "        text-align: right;\n",
       "    }\n",
       "</style>\n",
       "<table border=\"1\" class=\"dataframe\">\n",
       "  <thead>\n",
       "    <tr style=\"text-align: right;\">\n",
       "      <th></th>\n",
       "      <th>title</th>\n",
       "      <th>cast</th>\n",
       "      <th>country</th>\n",
       "      <th>listed_in</th>\n",
       "      <th>description</th>\n",
       "    </tr>\n",
       "  </thead>\n",
       "  <tbody>\n",
       "    <tr>\n",
       "      <th>1</th>\n",
       "      <td>Blood &amp; Water</td>\n",
       "      <td>Ama Qamata, Khosi Ngema, Gail Mabalane, Thaban...</td>\n",
       "      <td>South Africa</td>\n",
       "      <td>International TV Shows, TV Dramas, TV Mysteries</td>\n",
       "      <td>[After, crossing, paths, at, a, party,, a, Cap...</td>\n",
       "    </tr>\n",
       "    <tr>\n",
       "      <th>4</th>\n",
       "      <td>Kota Factory</td>\n",
       "      <td>Mayur More, Jitendra Kumar, Ranjan Raj, Alam K...</td>\n",
       "      <td>India</td>\n",
       "      <td>International TV Shows, Romantic TV Shows, TV ...</td>\n",
       "      <td>[In, a, city, of, coaching, centers, known, to...</td>\n",
       "    </tr>\n",
       "  </tbody>\n",
       "</table>\n",
       "</div>"
      ],
      "text/plain": [
       "           title                                               cast  \\\n",
       "1  Blood & Water  Ama Qamata, Khosi Ngema, Gail Mabalane, Thaban...   \n",
       "4   Kota Factory  Mayur More, Jitendra Kumar, Ranjan Raj, Alam K...   \n",
       "\n",
       "        country                                          listed_in  \\\n",
       "1  South Africa    International TV Shows, TV Dramas, TV Mysteries   \n",
       "4         India  International TV Shows, Romantic TV Shows, TV ...   \n",
       "\n",
       "                                         description  \n",
       "1  [After, crossing, paths, at, a, party,, a, Cap...  \n",
       "4  [In, a, city, of, coaching, centers, known, to...  "
      ]
     },
     "execution_count": 21,
     "metadata": {},
     "output_type": "execute_result"
    }
   ],
   "source": [
    "shows.head(2)"
   ]
  },
  {
   "cell_type": "code",
   "execution_count": 22,
   "id": "04314b54-1e6b-438c-8082-2dba4ff9f2a4",
   "metadata": {},
   "outputs": [
    {
     "data": {
      "text/plain": [
       "'Engin Altan Düzyatan, Serdar Gökhan, Hülya Darcan, Kaan Taşaner, Esra Bilgiç, Osman Soykut, Serdar Deniz, Cengiz Coşkun, Reshad Strik, Hande Subaşı'"
      ]
     },
     "execution_count": 22,
     "metadata": {},
     "output_type": "execute_result"
    }
   ],
   "source": [
    "shows.iloc[5,1]"
   ]
  },
  {
   "cell_type": "code",
   "execution_count": 23,
   "id": "eac9552e-f48a-4f44-a4dc-15e3e21d1544",
   "metadata": {},
   "outputs": [],
   "source": [
    "shows['cast'] = shows['cast'].apply(lambda x: x.strip().split(\",\"))"
   ]
  },
  {
   "cell_type": "code",
   "execution_count": 24,
   "id": "12e778bc-40e0-4638-919a-8f7a744548aa",
   "metadata": {},
   "outputs": [],
   "source": [
    "shows['cast'] = shows['cast'].apply(lambda x:[i.replace(\" \", \"\") for i in x])"
   ]
  },
  {
   "cell_type": "code",
   "execution_count": 25,
   "id": "a80d7380-30c5-4631-8924-adb5db70112a",
   "metadata": {},
   "outputs": [
    {
     "data": {
      "text/plain": [
       "1       [AmaQamata, KhosiNgema, GailMabalane, ThabangM...\n",
       "4       [MayurMore, JitendraKumar, RanjanRaj, AlamKhan...\n",
       "8       [MelGiedroyc, SuePerkins, MaryBerry, PaulHolly...\n",
       "15      [LoganBrowning, BrandonP.Bell, DeRonHorton, An...\n",
       "17      [LuisErnestoFranco, CamilaSodi, SergioGoyri, S...\n",
       "                              ...                        \n",
       "8780    [JohnnyYongBosch, J.W.Terry, AlicynPackard, Me...\n",
       "8795    [MikeLiscio, EmilyBauer, BillyBobThompson, Aly...\n",
       "8796    [GökhanAtalay, PayidarTüfekçioglu, BaranAkbulu...\n",
       "8797    [MichaelJohnston, JessicaGee-George, Christine...\n",
       "8800    [SanamSaeed, FawadKhan, AyeshaOmer, MehreenRah...\n",
       "Name: cast, Length: 2024, dtype: object"
      ]
     },
     "execution_count": 25,
     "metadata": {},
     "output_type": "execute_result"
    }
   ],
   "source": [
    "shows['cast'].apply(lambda x:x[:5])"
   ]
  },
  {
   "cell_type": "code",
   "execution_count": 26,
   "id": "5da74eec-47e6-4cf7-9144-216e445bb447",
   "metadata": {},
   "outputs": [],
   "source": [
    "shows['cast'] = shows['cast'].apply(lambda x:x[:5])"
   ]
  },
  {
   "cell_type": "code",
   "execution_count": 27,
   "id": "183b3cd1-5dc7-4994-80e8-a7f58532216b",
   "metadata": {},
   "outputs": [],
   "source": [
    "shows['listed_in']= shows['listed_in'].apply(lambda x: x.strip().split(\",\"))"
   ]
  },
  {
   "cell_type": "code",
   "execution_count": 28,
   "id": "8c7f3667-62b4-4f8e-a527-c25e57c323cf",
   "metadata": {},
   "outputs": [],
   "source": [
    "shows['listed_in'] = shows['listed_in'].apply(lambda x:[i.replace(\" \", \"\") for i in x])"
   ]
  },
  {
   "cell_type": "code",
   "execution_count": 29,
   "id": "4c139920-b769-4bab-8d08-7ddfc769dae6",
   "metadata": {},
   "outputs": [
    {
     "data": {
      "text/plain": [
       "['InternationalTVShows', 'TVDramas', 'TVMysteries']"
      ]
     },
     "execution_count": 29,
     "metadata": {},
     "output_type": "execute_result"
    }
   ],
   "source": [
    "shows['listed_in'][1]"
   ]
  },
  {
   "cell_type": "code",
   "execution_count": null,
   "id": "bd507867-9a6f-4b92-936d-c7d2822bac9c",
   "metadata": {},
   "outputs": [],
   "source": []
  },
  {
   "cell_type": "code",
   "execution_count": 30,
   "id": "cb957790-fafe-45ae-86ea-fb381aed2deb",
   "metadata": {},
   "outputs": [
    {
     "data": {
      "text/plain": [
       "7              HaileGerima\n",
       "9            TheodoreMelfi\n",
       "12      ChristianSchwochow\n",
       "24               S.Shankar\n",
       "27             DennisDugan\n",
       "               ...        \n",
       "8801         MajidAlAnsari\n",
       "8802          DavidFincher\n",
       "8804        RubenFleischer\n",
       "8805           PeterHewitt\n",
       "8806            MozezSingh\n",
       "Name: director, Length: 5189, dtype: object"
      ]
     },
     "execution_count": 30,
     "metadata": {},
     "output_type": "execute_result"
    }
   ],
   "source": [
    "movies['director'].apply(lambda x:x.replace(\" \", \"\"))"
   ]
  },
  {
   "cell_type": "code",
   "execution_count": 31,
   "id": "a31ec33b-85a1-48a4-aee6-f89fb365255e",
   "metadata": {},
   "outputs": [],
   "source": [
    "movies['director'] = movies['director'].apply(lambda x:x.replace(\" \", \"\"))"
   ]
  },
  {
   "cell_type": "code",
   "execution_count": 32,
   "id": "103618ef-d96e-4937-b837-f3cb17cc4376",
   "metadata": {},
   "outputs": [],
   "source": [
    "x=\"fan\"\n",
    "a = [\"\".join(x)]"
   ]
  },
  {
   "cell_type": "code",
   "execution_count": 33,
   "id": "72560197-7590-4047-a625-3d6ecdb33404",
   "metadata": {},
   "outputs": [
    {
     "data": {
      "text/plain": [
       "['fan']"
      ]
     },
     "execution_count": 33,
     "metadata": {},
     "output_type": "execute_result"
    }
   ],
   "source": [
    "a"
   ]
  },
  {
   "cell_type": "code",
   "execution_count": 34,
   "id": "dbfd2c84-157d-4761-a611-fdb96ebe1375",
   "metadata": {},
   "outputs": [],
   "source": [
    "movies['director'] = movies['director'].apply(lambda x:[\"\".join(x)])"
   ]
  },
  {
   "cell_type": "code",
   "execution_count": 35,
   "id": "26ebb89b-b771-4248-aca0-f3978cf54fba",
   "metadata": {},
   "outputs": [
    {
     "data": {
      "text/plain": [
       "7              [HaileGerima]\n",
       "9            [TheodoreMelfi]\n",
       "12      [ChristianSchwochow]\n",
       "24               [S.Shankar]\n",
       "27             [DennisDugan]\n",
       "                ...         \n",
       "8801         [MajidAlAnsari]\n",
       "8802          [DavidFincher]\n",
       "8804        [RubenFleischer]\n",
       "8805           [PeterHewitt]\n",
       "8806            [MozezSingh]\n",
       "Name: director, Length: 5189, dtype: object"
      ]
     },
     "execution_count": 35,
     "metadata": {},
     "output_type": "execute_result"
    }
   ],
   "source": [
    "movies['director']"
   ]
  },
  {
   "cell_type": "code",
   "execution_count": 36,
   "id": "886b0f4a-d813-4f9e-a15f-158491797fd5",
   "metadata": {},
   "outputs": [],
   "source": [
    "movies['cast'] = movies['cast'].apply(lambda x: x.strip().split(\",\"))"
   ]
  },
  {
   "cell_type": "code",
   "execution_count": 37,
   "id": "db3199f9-ec78-48d0-bb0c-695ce059b720",
   "metadata": {},
   "outputs": [],
   "source": [
    "movies['cast'] = movies['cast'].apply(lambda x:[i.replace(\" \", \"\") for i in x])"
   ]
  },
  {
   "cell_type": "code",
   "execution_count": 38,
   "id": "9869c2b5-fb4b-438b-bd30-2f0735123be3",
   "metadata": {},
   "outputs": [],
   "source": [
    "movies['cast'] = movies['cast'].apply(lambda x:x[:5])"
   ]
  },
  {
   "cell_type": "code",
   "execution_count": 39,
   "id": "e68f4b0b-544f-4574-8250-1932e2fe0668",
   "metadata": {},
   "outputs": [],
   "source": [
    "movies['listed_in']= movies['listed_in'].apply(lambda x: x.strip().split(\",\"))\n",
    "movies['listed_in'] = movies['listed_in'].apply(lambda x:[i.replace(\" \", \"\") for i in x])"
   ]
  },
  {
   "cell_type": "code",
   "execution_count": 40,
   "id": "af565809-234e-4a36-9c3d-c15ac36b8a34",
   "metadata": {},
   "outputs": [
    {
     "data": {
      "text/plain": [
       "7       [Dramas, IndependentMovies, InternationalMovies]\n",
       "9                                     [Comedies, Dramas]\n",
       "12                         [Dramas, InternationalMovies]\n",
       "24       [Comedies, InternationalMovies, RomanticMovies]\n",
       "27                                            [Comedies]\n",
       "                              ...                       \n",
       "8801            [Dramas, InternationalMovies, Thrillers]\n",
       "8802                     [CultMovies, Dramas, Thrillers]\n",
       "8804                            [Comedies, HorrorMovies]\n",
       "8805                   [Children&FamilyMovies, Comedies]\n",
       "8806       [Dramas, InternationalMovies, Music&Musicals]\n",
       "Name: listed_in, Length: 5189, dtype: object"
      ]
     },
     "execution_count": 40,
     "metadata": {},
     "output_type": "execute_result"
    }
   ],
   "source": [
    "movies['listed_in']"
   ]
  },
  {
   "cell_type": "code",
   "execution_count": null,
   "id": "52628a8c-05de-42fe-8cf5-9ff935629c6e",
   "metadata": {},
   "outputs": [],
   "source": []
  },
  {
   "cell_type": "code",
   "execution_count": 41,
   "id": "268aa092-f0cf-4d5f-9f04-629bd606f3e3",
   "metadata": {},
   "outputs": [
    {
     "data": {
      "text/html": [
       "<div>\n",
       "<style scoped>\n",
       "    .dataframe tbody tr th:only-of-type {\n",
       "        vertical-align: middle;\n",
       "    }\n",
       "\n",
       "    .dataframe tbody tr th {\n",
       "        vertical-align: top;\n",
       "    }\n",
       "\n",
       "    .dataframe thead th {\n",
       "        text-align: right;\n",
       "    }\n",
       "</style>\n",
       "<table border=\"1\" class=\"dataframe\">\n",
       "  <thead>\n",
       "    <tr style=\"text-align: right;\">\n",
       "      <th></th>\n",
       "      <th>title</th>\n",
       "      <th>cast</th>\n",
       "      <th>country</th>\n",
       "      <th>listed_in</th>\n",
       "      <th>description</th>\n",
       "    </tr>\n",
       "  </thead>\n",
       "  <tbody>\n",
       "    <tr>\n",
       "      <th>1</th>\n",
       "      <td>Blood &amp; Water</td>\n",
       "      <td>[AmaQamata, KhosiNgema, GailMabalane, ThabangM...</td>\n",
       "      <td>South Africa</td>\n",
       "      <td>[InternationalTVShows, TVDramas, TVMysteries]</td>\n",
       "      <td>[After, crossing, paths, at, a, party,, a, Cap...</td>\n",
       "    </tr>\n",
       "    <tr>\n",
       "      <th>4</th>\n",
       "      <td>Kota Factory</td>\n",
       "      <td>[MayurMore, JitendraKumar, RanjanRaj, AlamKhan...</td>\n",
       "      <td>India</td>\n",
       "      <td>[InternationalTVShows, RomanticTVShows, TVCome...</td>\n",
       "      <td>[In, a, city, of, coaching, centers, known, to...</td>\n",
       "    </tr>\n",
       "  </tbody>\n",
       "</table>\n",
       "</div>"
      ],
      "text/plain": [
       "           title                                               cast  \\\n",
       "1  Blood & Water  [AmaQamata, KhosiNgema, GailMabalane, ThabangM...   \n",
       "4   Kota Factory  [MayurMore, JitendraKumar, RanjanRaj, AlamKhan...   \n",
       "\n",
       "        country                                          listed_in  \\\n",
       "1  South Africa      [InternationalTVShows, TVDramas, TVMysteries]   \n",
       "4         India  [InternationalTVShows, RomanticTVShows, TVCome...   \n",
       "\n",
       "                                         description  \n",
       "1  [After, crossing, paths, at, a, party,, a, Cap...  \n",
       "4  [In, a, city, of, coaching, centers, known, to...  "
      ]
     },
     "execution_count": 41,
     "metadata": {},
     "output_type": "execute_result"
    }
   ],
   "source": [
    "shows.head(2)"
   ]
  },
  {
   "cell_type": "code",
   "execution_count": 42,
   "id": "bc2f3dee-3923-443c-8ae0-3be1baa3bef7",
   "metadata": {},
   "outputs": [
    {
     "data": {
      "text/html": [
       "<div>\n",
       "<style scoped>\n",
       "    .dataframe tbody tr th:only-of-type {\n",
       "        vertical-align: middle;\n",
       "    }\n",
       "\n",
       "    .dataframe tbody tr th {\n",
       "        vertical-align: top;\n",
       "    }\n",
       "\n",
       "    .dataframe thead th {\n",
       "        text-align: right;\n",
       "    }\n",
       "</style>\n",
       "<table border=\"1\" class=\"dataframe\">\n",
       "  <thead>\n",
       "    <tr style=\"text-align: right;\">\n",
       "      <th></th>\n",
       "      <th>title</th>\n",
       "      <th>director</th>\n",
       "      <th>cast</th>\n",
       "      <th>country</th>\n",
       "      <th>listed_in</th>\n",
       "      <th>description</th>\n",
       "    </tr>\n",
       "  </thead>\n",
       "  <tbody>\n",
       "    <tr>\n",
       "      <th>7</th>\n",
       "      <td>Sankofa</td>\n",
       "      <td>[HaileGerima]</td>\n",
       "      <td>[KofiGhanaba, OyafunmikeOgunlano, AlexandraDua...</td>\n",
       "      <td>United States, Ghana, Burkina Faso, United Kin...</td>\n",
       "      <td>[Dramas, IndependentMovies, InternationalMovies]</td>\n",
       "      <td>[On, a, photo, shoot, in, Ghana,, an, American...</td>\n",
       "    </tr>\n",
       "    <tr>\n",
       "      <th>9</th>\n",
       "      <td>The Starling</td>\n",
       "      <td>[TheodoreMelfi]</td>\n",
       "      <td>[MelissaMcCarthy, ChrisO'Dowd, KevinKline, Tim...</td>\n",
       "      <td>United States</td>\n",
       "      <td>[Comedies, Dramas]</td>\n",
       "      <td>[A, woman, adjusting, to, life, after, a, loss...</td>\n",
       "    </tr>\n",
       "  </tbody>\n",
       "</table>\n",
       "</div>"
      ],
      "text/plain": [
       "          title         director  \\\n",
       "7       Sankofa    [HaileGerima]   \n",
       "9  The Starling  [TheodoreMelfi]   \n",
       "\n",
       "                                                cast  \\\n",
       "7  [KofiGhanaba, OyafunmikeOgunlano, AlexandraDua...   \n",
       "9  [MelissaMcCarthy, ChrisO'Dowd, KevinKline, Tim...   \n",
       "\n",
       "                                             country  \\\n",
       "7  United States, Ghana, Burkina Faso, United Kin...   \n",
       "9                                      United States   \n",
       "\n",
       "                                          listed_in  \\\n",
       "7  [Dramas, IndependentMovies, InternationalMovies]   \n",
       "9                                [Comedies, Dramas]   \n",
       "\n",
       "                                         description  \n",
       "7  [On, a, photo, shoot, in, Ghana,, an, American...  \n",
       "9  [A, woman, adjusting, to, life, after, a, loss...  "
      ]
     },
     "execution_count": 42,
     "metadata": {},
     "output_type": "execute_result"
    }
   ],
   "source": [
    "movies.head(2)"
   ]
  },
  {
   "cell_type": "code",
   "execution_count": null,
   "id": "c605c9c8-1667-41a2-b09c-d520c6f11db2",
   "metadata": {},
   "outputs": [],
   "source": []
  },
  {
   "cell_type": "code",
   "execution_count": 43,
   "id": "88897063-1cac-46d1-89b3-de2184ea32c2",
   "metadata": {},
   "outputs": [],
   "source": [
    "shows['tags'] = shows['description'] + shows['listed_in'] + shows['cast']\n",
    "movies['tags'] = movies['description'] + movies['listed_in'] + movies['director'] + movies['cast']"
   ]
  },
  {
   "cell_type": "code",
   "execution_count": 44,
   "id": "17f98e63-b240-476f-9e57-28f68b4621c0",
   "metadata": {},
   "outputs": [
    {
     "data": {
      "text/html": [
       "<div>\n",
       "<style scoped>\n",
       "    .dataframe tbody tr th:only-of-type {\n",
       "        vertical-align: middle;\n",
       "    }\n",
       "\n",
       "    .dataframe tbody tr th {\n",
       "        vertical-align: top;\n",
       "    }\n",
       "\n",
       "    .dataframe thead th {\n",
       "        text-align: right;\n",
       "    }\n",
       "</style>\n",
       "<table border=\"1\" class=\"dataframe\">\n",
       "  <thead>\n",
       "    <tr style=\"text-align: right;\">\n",
       "      <th></th>\n",
       "      <th>title</th>\n",
       "      <th>director</th>\n",
       "      <th>cast</th>\n",
       "      <th>country</th>\n",
       "      <th>listed_in</th>\n",
       "      <th>description</th>\n",
       "      <th>tags</th>\n",
       "    </tr>\n",
       "  </thead>\n",
       "  <tbody>\n",
       "    <tr>\n",
       "      <th>7</th>\n",
       "      <td>Sankofa</td>\n",
       "      <td>[HaileGerima]</td>\n",
       "      <td>[KofiGhanaba, OyafunmikeOgunlano, AlexandraDua...</td>\n",
       "      <td>United States, Ghana, Burkina Faso, United Kin...</td>\n",
       "      <td>[Dramas, IndependentMovies, InternationalMovies]</td>\n",
       "      <td>[On, a, photo, shoot, in, Ghana,, an, American...</td>\n",
       "      <td>[On, a, photo, shoot, in, Ghana,, an, American...</td>\n",
       "    </tr>\n",
       "    <tr>\n",
       "      <th>9</th>\n",
       "      <td>The Starling</td>\n",
       "      <td>[TheodoreMelfi]</td>\n",
       "      <td>[MelissaMcCarthy, ChrisO'Dowd, KevinKline, Tim...</td>\n",
       "      <td>United States</td>\n",
       "      <td>[Comedies, Dramas]</td>\n",
       "      <td>[A, woman, adjusting, to, life, after, a, loss...</td>\n",
       "      <td>[A, woman, adjusting, to, life, after, a, loss...</td>\n",
       "    </tr>\n",
       "    <tr>\n",
       "      <th>12</th>\n",
       "      <td>Je Suis Karl</td>\n",
       "      <td>[ChristianSchwochow]</td>\n",
       "      <td>[LunaWedler, JannisNiewöhner, MilanPeschel, Ed...</td>\n",
       "      <td>Germany, Czech Republic</td>\n",
       "      <td>[Dramas, InternationalMovies]</td>\n",
       "      <td>[After, most, of, her, family, is, murdered, i...</td>\n",
       "      <td>[After, most, of, her, family, is, murdered, i...</td>\n",
       "    </tr>\n",
       "    <tr>\n",
       "      <th>24</th>\n",
       "      <td>Jeans</td>\n",
       "      <td>[S.Shankar]</td>\n",
       "      <td>[Prashanth, AishwaryaRaiBachchan, SriLakshmi, ...</td>\n",
       "      <td>India</td>\n",
       "      <td>[Comedies, InternationalMovies, RomanticMovies]</td>\n",
       "      <td>[When, the, father, of, the, man, she, loves, ...</td>\n",
       "      <td>[When, the, father, of, the, man, she, loves, ...</td>\n",
       "    </tr>\n",
       "    <tr>\n",
       "      <th>27</th>\n",
       "      <td>Grown Ups</td>\n",
       "      <td>[DennisDugan]</td>\n",
       "      <td>[AdamSandler, KevinJames, ChrisRock, DavidSpad...</td>\n",
       "      <td>United States</td>\n",
       "      <td>[Comedies]</td>\n",
       "      <td>[Mourning, the, loss, of, their, beloved, juni...</td>\n",
       "      <td>[Mourning, the, loss, of, their, beloved, juni...</td>\n",
       "    </tr>\n",
       "  </tbody>\n",
       "</table>\n",
       "</div>"
      ],
      "text/plain": [
       "           title              director  \\\n",
       "7        Sankofa         [HaileGerima]   \n",
       "9   The Starling       [TheodoreMelfi]   \n",
       "12  Je Suis Karl  [ChristianSchwochow]   \n",
       "24         Jeans           [S.Shankar]   \n",
       "27     Grown Ups         [DennisDugan]   \n",
       "\n",
       "                                                 cast  \\\n",
       "7   [KofiGhanaba, OyafunmikeOgunlano, AlexandraDua...   \n",
       "9   [MelissaMcCarthy, ChrisO'Dowd, KevinKline, Tim...   \n",
       "12  [LunaWedler, JannisNiewöhner, MilanPeschel, Ed...   \n",
       "24  [Prashanth, AishwaryaRaiBachchan, SriLakshmi, ...   \n",
       "27  [AdamSandler, KevinJames, ChrisRock, DavidSpad...   \n",
       "\n",
       "                                              country  \\\n",
       "7   United States, Ghana, Burkina Faso, United Kin...   \n",
       "9                                       United States   \n",
       "12                            Germany, Czech Republic   \n",
       "24                                              India   \n",
       "27                                      United States   \n",
       "\n",
       "                                           listed_in  \\\n",
       "7   [Dramas, IndependentMovies, InternationalMovies]   \n",
       "9                                 [Comedies, Dramas]   \n",
       "12                     [Dramas, InternationalMovies]   \n",
       "24   [Comedies, InternationalMovies, RomanticMovies]   \n",
       "27                                        [Comedies]   \n",
       "\n",
       "                                          description  \\\n",
       "7   [On, a, photo, shoot, in, Ghana,, an, American...   \n",
       "9   [A, woman, adjusting, to, life, after, a, loss...   \n",
       "12  [After, most, of, her, family, is, murdered, i...   \n",
       "24  [When, the, father, of, the, man, she, loves, ...   \n",
       "27  [Mourning, the, loss, of, their, beloved, juni...   \n",
       "\n",
       "                                                 tags  \n",
       "7   [On, a, photo, shoot, in, Ghana,, an, American...  \n",
       "9   [A, woman, adjusting, to, life, after, a, loss...  \n",
       "12  [After, most, of, her, family, is, murdered, i...  \n",
       "24  [When, the, father, of, the, man, she, loves, ...  \n",
       "27  [Mourning, the, loss, of, their, beloved, juni...  "
      ]
     },
     "execution_count": 44,
     "metadata": {},
     "output_type": "execute_result"
    }
   ],
   "source": [
    "movies.head()"
   ]
  },
  {
   "cell_type": "code",
   "execution_count": 45,
   "id": "fc8e1f69-0cf9-4746-acdd-22caec3e6af9",
   "metadata": {},
   "outputs": [],
   "source": [
    "shows['tags'] = shows['tags'].apply(lambda x : \" \".join(x))"
   ]
  },
  {
   "cell_type": "code",
   "execution_count": 46,
   "id": "6a6342aa-4868-4363-a539-041860d4ec49",
   "metadata": {},
   "outputs": [
    {
     "data": {
      "text/plain": [
       "1       After crossing paths at a party, a Cape Town t...\n",
       "4       In a city of coaching centers known to train I...\n",
       "8       A talented batch of amateur bakers face off in...\n",
       "15      Students of color navigate the daily slights a...\n",
       "17      Strangers Diego and Isabel flee their home in ...\n",
       "                              ...                        \n",
       "8780    Nate frees a mythical being trapped in a magic...\n",
       "8795    Now that he's discovered the Pendulum Summonin...\n",
       "8796    During the Mongol invasions, Yunus Emre leaves...\n",
       "8797    Teen surfer Zak Storm is mysteriously transpor...\n",
       "8800    Strong-willed, middle-class Kashaf and carefre...\n",
       "Name: tags, Length: 2024, dtype: object"
      ]
     },
     "execution_count": 46,
     "metadata": {},
     "output_type": "execute_result"
    }
   ],
   "source": [
    "shows['tags']"
   ]
  },
  {
   "cell_type": "code",
   "execution_count": 47,
   "id": "971c1362-3384-4e73-8f34-b477478417dc",
   "metadata": {},
   "outputs": [],
   "source": [
    "movies['tags'] = movies['tags'].apply(lambda x: \" \".join(x))"
   ]
  },
  {
   "cell_type": "code",
   "execution_count": 48,
   "id": "9482bc24-abaa-46af-9dce-d48577eb8beb",
   "metadata": {},
   "outputs": [
    {
     "data": {
      "text/plain": [
       "7       On a photo shoot in Ghana, an American model s...\n",
       "9       A woman adjusting to life after a loss contend...\n",
       "12      After most of her family is murdered in a terr...\n",
       "24      When the father of the man she loves insists t...\n",
       "27      Mourning the loss of their beloved junior high...\n",
       "                              ...                        \n",
       "8801    Recovering alcoholic Talal wakes up inside a s...\n",
       "8802    A political cartoonist, a crime reporter and a...\n",
       "8804    Looking to survive in a world taken over by zo...\n",
       "8805    Dragged from civilian life, a former superhero...\n",
       "8806    A scrappy but poor boy worms his way into a ty...\n",
       "Name: tags, Length: 5189, dtype: object"
      ]
     },
     "execution_count": 48,
     "metadata": {},
     "output_type": "execute_result"
    }
   ],
   "source": [
    "movies['tags']"
   ]
  },
  {
   "cell_type": "code",
   "execution_count": null,
   "id": "b4cea3d8-35cd-4254-b473-092d27c8ee11",
   "metadata": {},
   "outputs": [],
   "source": []
  },
  {
   "cell_type": "code",
   "execution_count": 49,
   "id": "cae66c49-2111-4d26-9e05-99835752d2eb",
   "metadata": {},
   "outputs": [],
   "source": [
    "shows_p = shows[['title', 'tags']]"
   ]
  },
  {
   "cell_type": "code",
   "execution_count": 50,
   "id": "a849b05f-28f0-4bf3-b844-12c73eb12915",
   "metadata": {},
   "outputs": [
    {
     "data": {
      "text/html": [
       "<div>\n",
       "<style scoped>\n",
       "    .dataframe tbody tr th:only-of-type {\n",
       "        vertical-align: middle;\n",
       "    }\n",
       "\n",
       "    .dataframe tbody tr th {\n",
       "        vertical-align: top;\n",
       "    }\n",
       "\n",
       "    .dataframe thead th {\n",
       "        text-align: right;\n",
       "    }\n",
       "</style>\n",
       "<table border=\"1\" class=\"dataframe\">\n",
       "  <thead>\n",
       "    <tr style=\"text-align: right;\">\n",
       "      <th></th>\n",
       "      <th>title</th>\n",
       "      <th>tags</th>\n",
       "    </tr>\n",
       "  </thead>\n",
       "  <tbody>\n",
       "    <tr>\n",
       "      <th>1</th>\n",
       "      <td>Blood &amp; Water</td>\n",
       "      <td>After crossing paths at a party, a Cape Town t...</td>\n",
       "    </tr>\n",
       "    <tr>\n",
       "      <th>4</th>\n",
       "      <td>Kota Factory</td>\n",
       "      <td>In a city of coaching centers known to train I...</td>\n",
       "    </tr>\n",
       "  </tbody>\n",
       "</table>\n",
       "</div>"
      ],
      "text/plain": [
       "           title                                               tags\n",
       "1  Blood & Water  After crossing paths at a party, a Cape Town t...\n",
       "4   Kota Factory  In a city of coaching centers known to train I..."
      ]
     },
     "execution_count": 50,
     "metadata": {},
     "output_type": "execute_result"
    }
   ],
   "source": [
    "shows_p.head(2)"
   ]
  },
  {
   "cell_type": "code",
   "execution_count": 51,
   "id": "39269360-ee8c-45d1-8e70-8c709803bb86",
   "metadata": {},
   "outputs": [],
   "source": [
    "movies_p = movies[['title', 'tags']]"
   ]
  },
  {
   "cell_type": "code",
   "execution_count": 52,
   "id": "88be13de-6ec0-4435-94a9-68b4fcb5f1ab",
   "metadata": {},
   "outputs": [
    {
     "data": {
      "text/html": [
       "<div>\n",
       "<style scoped>\n",
       "    .dataframe tbody tr th:only-of-type {\n",
       "        vertical-align: middle;\n",
       "    }\n",
       "\n",
       "    .dataframe tbody tr th {\n",
       "        vertical-align: top;\n",
       "    }\n",
       "\n",
       "    .dataframe thead th {\n",
       "        text-align: right;\n",
       "    }\n",
       "</style>\n",
       "<table border=\"1\" class=\"dataframe\">\n",
       "  <thead>\n",
       "    <tr style=\"text-align: right;\">\n",
       "      <th></th>\n",
       "      <th>title</th>\n",
       "      <th>tags</th>\n",
       "    </tr>\n",
       "  </thead>\n",
       "  <tbody>\n",
       "    <tr>\n",
       "      <th>7</th>\n",
       "      <td>Sankofa</td>\n",
       "      <td>On a photo shoot in Ghana, an American model s...</td>\n",
       "    </tr>\n",
       "    <tr>\n",
       "      <th>9</th>\n",
       "      <td>The Starling</td>\n",
       "      <td>A woman adjusting to life after a loss contend...</td>\n",
       "    </tr>\n",
       "  </tbody>\n",
       "</table>\n",
       "</div>"
      ],
      "text/plain": [
       "          title                                               tags\n",
       "7       Sankofa  On a photo shoot in Ghana, an American model s...\n",
       "9  The Starling  A woman adjusting to life after a loss contend..."
      ]
     },
     "execution_count": 52,
     "metadata": {},
     "output_type": "execute_result"
    }
   ],
   "source": [
    "movies_p.head(2)"
   ]
  },
  {
   "cell_type": "code",
   "execution_count": 53,
   "id": "ba142ab9-628e-496e-bca0-031a8d74a41b",
   "metadata": {},
   "outputs": [
    {
     "data": {
      "text/plain": [
       "'After most of her family is murdered in a terrorist bombing, a young woman is unknowingly lured into joining the very group that killed them. Dramas InternationalMovies ChristianSchwochow LunaWedler JannisNiewöhner MilanPeschel EdinHasanović AnnaFialová'"
      ]
     },
     "execution_count": 53,
     "metadata": {},
     "output_type": "execute_result"
    }
   ],
   "source": [
    "movies_p.iloc[2,1]"
   ]
  },
  {
   "cell_type": "code",
   "execution_count": 54,
   "id": "37c99abf-ba69-4168-91e6-ba5dd3e70dc6",
   "metadata": {},
   "outputs": [
    {
     "name": "stderr",
     "output_type": "stream",
     "text": [
      "/tmp/ipykernel_4029403/3299249012.py:1: SettingWithCopyWarning: \n",
      "A value is trying to be set on a copy of a slice from a DataFrame.\n",
      "Try using .loc[row_indexer,col_indexer] = value instead\n",
      "\n",
      "See the caveats in the documentation: https://pandas.pydata.org/pandas-docs/stable/user_guide/indexing.html#returning-a-view-versus-a-copy\n",
      "  shows_p['tags'] = shows_p['tags'].apply(lambda x:x.lower())\n",
      "/tmp/ipykernel_4029403/3299249012.py:2: SettingWithCopyWarning: \n",
      "A value is trying to be set on a copy of a slice from a DataFrame.\n",
      "Try using .loc[row_indexer,col_indexer] = value instead\n",
      "\n",
      "See the caveats in the documentation: https://pandas.pydata.org/pandas-docs/stable/user_guide/indexing.html#returning-a-view-versus-a-copy\n",
      "  movies_p['tags'] = movies_p['tags'].apply(lambda x:x.lower())\n"
     ]
    }
   ],
   "source": [
    "shows_p['tags'] = shows_p['tags'].apply(lambda x:x.lower())\n",
    "movies_p['tags'] = movies_p['tags'].apply(lambda x:x.lower())"
   ]
  },
  {
   "cell_type": "code",
   "execution_count": 55,
   "id": "43dcd3d5-2723-4f93-99e0-c338a015812a",
   "metadata": {},
   "outputs": [
    {
     "data": {
      "text/html": [
       "<div>\n",
       "<style scoped>\n",
       "    .dataframe tbody tr th:only-of-type {\n",
       "        vertical-align: middle;\n",
       "    }\n",
       "\n",
       "    .dataframe tbody tr th {\n",
       "        vertical-align: top;\n",
       "    }\n",
       "\n",
       "    .dataframe thead th {\n",
       "        text-align: right;\n",
       "    }\n",
       "</style>\n",
       "<table border=\"1\" class=\"dataframe\">\n",
       "  <thead>\n",
       "    <tr style=\"text-align: right;\">\n",
       "      <th></th>\n",
       "      <th>title</th>\n",
       "      <th>tags</th>\n",
       "    </tr>\n",
       "  </thead>\n",
       "  <tbody>\n",
       "    <tr>\n",
       "      <th>1</th>\n",
       "      <td>Blood &amp; Water</td>\n",
       "      <td>after crossing paths at a party, a cape town t...</td>\n",
       "    </tr>\n",
       "    <tr>\n",
       "      <th>4</th>\n",
       "      <td>Kota Factory</td>\n",
       "      <td>in a city of coaching centers known to train i...</td>\n",
       "    </tr>\n",
       "  </tbody>\n",
       "</table>\n",
       "</div>"
      ],
      "text/plain": [
       "           title                                               tags\n",
       "1  Blood & Water  after crossing paths at a party, a cape town t...\n",
       "4   Kota Factory  in a city of coaching centers known to train i..."
      ]
     },
     "execution_count": 55,
     "metadata": {},
     "output_type": "execute_result"
    }
   ],
   "source": [
    "shows_p.head(2)"
   ]
  },
  {
   "cell_type": "markdown",
   "id": "9a66ba2d-6fba-4436-860f-d00861bbf608",
   "metadata": {},
   "source": [
    "## Stemming and Vectorization"
   ]
  },
  {
   "cell_type": "code",
   "execution_count": 56,
   "id": "ee25a8fb-df0a-45dc-bf5d-71ae9f14004d",
   "metadata": {},
   "outputs": [],
   "source": [
    "import nltk"
   ]
  },
  {
   "cell_type": "code",
   "execution_count": 57,
   "id": "0da20494-4c2d-45f5-a536-1fd7a06b8b67",
   "metadata": {},
   "outputs": [],
   "source": [
    "from nltk.stem.porter import PorterStemmer\n",
    "ps = PorterStemmer()"
   ]
  },
  {
   "cell_type": "code",
   "execution_count": 58,
   "id": "51e70f78-4298-4c72-a147-c2a64f4e55d6",
   "metadata": {},
   "outputs": [],
   "source": [
    "def stem(text):\n",
    "    y = []\n",
    "    for i in text.split(): \n",
    "        y.append(ps.stem(i))\n",
    "    return \" \".join(y)"
   ]
  },
  {
   "cell_type": "code",
   "execution_count": 59,
   "id": "f88031ca-bb37-4064-80b5-d128881ab0cc",
   "metadata": {},
   "outputs": [
    {
     "name": "stdout",
     "output_type": "stream",
     "text": [
      "love love love uniqu\n"
     ]
    }
   ],
   "source": [
    "print(stem(\"loving loved lovely unique\"))"
   ]
  },
  {
   "cell_type": "code",
   "execution_count": 60,
   "id": "56acec0c-fa98-4fae-9619-3515588f88fb",
   "metadata": {},
   "outputs": [
    {
     "name": "stderr",
     "output_type": "stream",
     "text": [
      "/tmp/ipykernel_4029403/3552740095.py:1: SettingWithCopyWarning: \n",
      "A value is trying to be set on a copy of a slice from a DataFrame.\n",
      "Try using .loc[row_indexer,col_indexer] = value instead\n",
      "\n",
      "See the caveats in the documentation: https://pandas.pydata.org/pandas-docs/stable/user_guide/indexing.html#returning-a-view-versus-a-copy\n",
      "  shows_p['tags'] = shows_p['tags'].apply(stem)\n"
     ]
    }
   ],
   "source": [
    "shows_p['tags'] = shows_p['tags'].apply(stem)"
   ]
  },
  {
   "cell_type": "code",
   "execution_count": 61,
   "id": "adf6b0df-bd4f-4aaa-9a95-8dc1d6a8ac49",
   "metadata": {},
   "outputs": [
    {
     "name": "stderr",
     "output_type": "stream",
     "text": [
      "/tmp/ipykernel_4029403/4045321084.py:1: SettingWithCopyWarning: \n",
      "A value is trying to be set on a copy of a slice from a DataFrame.\n",
      "Try using .loc[row_indexer,col_indexer] = value instead\n",
      "\n",
      "See the caveats in the documentation: https://pandas.pydata.org/pandas-docs/stable/user_guide/indexing.html#returning-a-view-versus-a-copy\n",
      "  movies_p['tags'] = movies_p['tags'].apply(stem)\n"
     ]
    }
   ],
   "source": [
    "movies_p['tags'] = movies_p['tags'].apply(stem)"
   ]
  },
  {
   "cell_type": "code",
   "execution_count": 62,
   "id": "3b3c39cf-c57d-490a-96a9-9751d8839b9f",
   "metadata": {},
   "outputs": [],
   "source": [
    "from sklearn.feature_extraction.text import CountVectorizer\n",
    "cv = CountVectorizer(max_features=5000, stop_words='english')"
   ]
  },
  {
   "cell_type": "code",
   "execution_count": 63,
   "id": "de169f8d-629d-4d7b-b0cf-77b2af20c76f",
   "metadata": {},
   "outputs": [
    {
     "data": {
      "text/plain": [
       "(2024, 5000)"
      ]
     },
     "execution_count": 63,
     "metadata": {},
     "output_type": "execute_result"
    }
   ],
   "source": [
    "cv.fit_transform(shows_p['tags']).toarray().shape"
   ]
  },
  {
   "cell_type": "code",
   "execution_count": 64,
   "id": "83aafca5-0ed6-4611-8974-77033ec08bf7",
   "metadata": {},
   "outputs": [],
   "source": [
    "shows_vectors = cv.fit_transform(shows_p['tags']).toarray()\n",
    "movies_vectors = cv.fit_transform(movies_p['tags']).toarray()"
   ]
  },
  {
   "cell_type": "code",
   "execution_count": 65,
   "id": "cac901bf-934a-4eff-9bf6-584cc4fa2bc3",
   "metadata": {},
   "outputs": [
    {
     "data": {
      "text/plain": [
       "array([0, 0, 0, ..., 0, 0, 0], shape=(5000,))"
      ]
     },
     "execution_count": 65,
     "metadata": {},
     "output_type": "execute_result"
    }
   ],
   "source": [
    "movies_vectors[45]"
   ]
  },
  {
   "cell_type": "code",
   "execution_count": 66,
   "id": "65d20144-f4f5-4f13-82b0-4cdb904c38c7",
   "metadata": {},
   "outputs": [
    {
     "data": {
      "text/plain": [
       "array(['000', '007', '10', ..., 'zoyaakhtar', 'álvarocervant',\n",
       "       'özgeborak'], shape=(5000,), dtype=object)"
      ]
     },
     "execution_count": 66,
     "metadata": {},
     "output_type": "execute_result"
    }
   ],
   "source": [
    "cv.get_feature_names_out()"
   ]
  },
  {
   "cell_type": "markdown",
   "id": "ca95a422-eae7-46ee-adb2-cd985e6e5794",
   "metadata": {},
   "source": [
    "## Similarity between vectors - Cosine Similarity"
   ]
  },
  {
   "cell_type": "code",
   "execution_count": 67,
   "id": "234066ca-6954-485e-b547-6fde6cd69ee9",
   "metadata": {},
   "outputs": [],
   "source": [
    "from sklearn.metrics.pairwise import cosine_similarity"
   ]
  },
  {
   "cell_type": "code",
   "execution_count": 68,
   "id": "e1cdf50d-edfd-4649-85af-55775ac7c1b3",
   "metadata": {},
   "outputs": [
    {
     "data": {
      "text/plain": [
       "(2024, 2024)"
      ]
     },
     "execution_count": 68,
     "metadata": {},
     "output_type": "execute_result"
    }
   ],
   "source": [
    "cosine_similarity(shows_vectors).shape"
   ]
  },
  {
   "cell_type": "code",
   "execution_count": 69,
   "id": "70db16a2-3bc7-4268-8448-42b43fd7e03c",
   "metadata": {},
   "outputs": [
    {
     "data": {
      "text/plain": [
       "(5189, 5189)"
      ]
     },
     "execution_count": 69,
     "metadata": {},
     "output_type": "execute_result"
    }
   ],
   "source": [
    "cosine_similarity(movies_vectors).shape"
   ]
  },
  {
   "cell_type": "code",
   "execution_count": 70,
   "id": "e054831d-535d-4739-bff0-08a7aa57c6a7",
   "metadata": {},
   "outputs": [],
   "source": [
    "shows_similarity = cosine_similarity(shows_vectors)\n",
    "movies_similarity = cosine_similarity(movies_vectors)"
   ]
  },
  {
   "cell_type": "code",
   "execution_count": 71,
   "id": "ff9ea948-486a-4302-a35a-1b0d4966fac1",
   "metadata": {},
   "outputs": [
    {
     "data": {
      "text/plain": [
       "(2024, 2024)"
      ]
     },
     "execution_count": 71,
     "metadata": {},
     "output_type": "execute_result"
    }
   ],
   "source": [
    "shows_similarity.shape"
   ]
  },
  {
   "cell_type": "markdown",
   "id": "61596d6c-0f5e-4718-8ebd-928b578f4ca6",
   "metadata": {},
   "source": [
    "## Shows Recommendation"
   ]
  },
  {
   "cell_type": "code",
   "execution_count": 72,
   "id": "9e4a0866-1af1-4144-baf7-4e541e3d3536",
   "metadata": {},
   "outputs": [],
   "source": [
    "shows_p = shows_p.reset_index(drop=True)"
   ]
  },
  {
   "cell_type": "code",
   "execution_count": 73,
   "id": "25bc0f32-0fdd-4fb0-8f78-f0f4a09a2f52",
   "metadata": {},
   "outputs": [],
   "source": [
    "shows_p.index = shows_p.index + 1 "
   ]
  },
  {
   "cell_type": "code",
   "execution_count": 74,
   "id": "f7cc4756-22cf-497e-8af2-62d8ac9d7e60",
   "metadata": {},
   "outputs": [
    {
     "data": {
      "text/html": [
       "<div>\n",
       "<style scoped>\n",
       "    .dataframe tbody tr th:only-of-type {\n",
       "        vertical-align: middle;\n",
       "    }\n",
       "\n",
       "    .dataframe tbody tr th {\n",
       "        vertical-align: top;\n",
       "    }\n",
       "\n",
       "    .dataframe thead th {\n",
       "        text-align: right;\n",
       "    }\n",
       "</style>\n",
       "<table border=\"1\" class=\"dataframe\">\n",
       "  <thead>\n",
       "    <tr style=\"text-align: right;\">\n",
       "      <th></th>\n",
       "      <th>title</th>\n",
       "      <th>tags</th>\n",
       "    </tr>\n",
       "  </thead>\n",
       "  <tbody>\n",
       "    <tr>\n",
       "      <th>1</th>\n",
       "      <td>Blood &amp; Water</td>\n",
       "      <td>after cross path at a party, a cape town teen ...</td>\n",
       "    </tr>\n",
       "    <tr>\n",
       "      <th>2</th>\n",
       "      <td>Kota Factory</td>\n",
       "      <td>in a citi of coach center known to train india...</td>\n",
       "    </tr>\n",
       "    <tr>\n",
       "      <th>3</th>\n",
       "      <td>The Great British Baking Show</td>\n",
       "      <td>a talent batch of amateur baker face off in a ...</td>\n",
       "    </tr>\n",
       "    <tr>\n",
       "      <th>4</th>\n",
       "      <td>Dear White People</td>\n",
       "      <td>student of color navig the daili slight and sl...</td>\n",
       "    </tr>\n",
       "    <tr>\n",
       "      <th>5</th>\n",
       "      <td>Falsa identidad</td>\n",
       "      <td>stranger diego and isabel flee their home in m...</td>\n",
       "    </tr>\n",
       "    <tr>\n",
       "      <th>...</th>\n",
       "      <td>...</td>\n",
       "      <td>...</td>\n",
       "    </tr>\n",
       "    <tr>\n",
       "      <th>2020</th>\n",
       "      <td>Yo-Kai Watch</td>\n",
       "      <td>nate free a mythic be trap in a magic capsule,...</td>\n",
       "    </tr>\n",
       "    <tr>\n",
       "      <th>2021</th>\n",
       "      <td>Yu-Gi-Oh! Arc-V</td>\n",
       "      <td>now that he' discov the pendulum summon techni...</td>\n",
       "    </tr>\n",
       "    <tr>\n",
       "      <th>2022</th>\n",
       "      <td>Yunus Emre</td>\n",
       "      <td>dure the mongol invasions, yunu emr leav hi ho...</td>\n",
       "    </tr>\n",
       "    <tr>\n",
       "      <th>2023</th>\n",
       "      <td>Zak Storm</td>\n",
       "      <td>teen surfer zak storm is mysteri transport to ...</td>\n",
       "    </tr>\n",
       "    <tr>\n",
       "      <th>2024</th>\n",
       "      <td>Zindagi Gulzar Hai</td>\n",
       "      <td>strong-willed, middle-class kashaf and carefre...</td>\n",
       "    </tr>\n",
       "  </tbody>\n",
       "</table>\n",
       "<p>2024 rows × 2 columns</p>\n",
       "</div>"
      ],
      "text/plain": [
       "                              title  \\\n",
       "1                     Blood & Water   \n",
       "2                      Kota Factory   \n",
       "3     The Great British Baking Show   \n",
       "4                 Dear White People   \n",
       "5                   Falsa identidad   \n",
       "...                             ...   \n",
       "2020                   Yo-Kai Watch   \n",
       "2021                Yu-Gi-Oh! Arc-V   \n",
       "2022                     Yunus Emre   \n",
       "2023                      Zak Storm   \n",
       "2024             Zindagi Gulzar Hai   \n",
       "\n",
       "                                                   tags  \n",
       "1     after cross path at a party, a cape town teen ...  \n",
       "2     in a citi of coach center known to train india...  \n",
       "3     a talent batch of amateur baker face off in a ...  \n",
       "4     student of color navig the daili slight and sl...  \n",
       "5     stranger diego and isabel flee their home in m...  \n",
       "...                                                 ...  \n",
       "2020  nate free a mythic be trap in a magic capsule,...  \n",
       "2021  now that he' discov the pendulum summon techni...  \n",
       "2022  dure the mongol invasions, yunu emr leav hi ho...  \n",
       "2023  teen surfer zak storm is mysteri transport to ...  \n",
       "2024  strong-willed, middle-class kashaf and carefre...  \n",
       "\n",
       "[2024 rows x 2 columns]"
      ]
     },
     "execution_count": 74,
     "metadata": {},
     "output_type": "execute_result"
    }
   ],
   "source": [
    "shows_p"
   ]
  },
  {
   "cell_type": "code",
   "execution_count": 75,
   "id": "a2c5c870-aabb-4cd5-9322-e09e4ac8083a",
   "metadata": {},
   "outputs": [
    {
     "data": {
      "text/plain": [
       "Index([2023], dtype='int64')"
      ]
     },
     "execution_count": 75,
     "metadata": {},
     "output_type": "execute_result"
    }
   ],
   "source": [
    "shows_p[shows_p['title'] == 'Zak Storm'].index"
   ]
  },
  {
   "cell_type": "code",
   "execution_count": 76,
   "id": "67eae56a-7710-45a3-918b-160ca4dd1fc7",
   "metadata": {},
   "outputs": [
    {
     "data": {
      "text/plain": [
       "[(2, np.float64(1.0000000000000002)),\n",
       " (1114, np.float64(0.2564945880212885)),\n",
       " (1193, np.float64(0.22360679774997896)),\n",
       " (693, np.float64(0.21693045781865616)),\n",
       " (1959, np.float64(0.21693045781865616)),\n",
       " (1661, np.float64(0.2051956704170308))]"
      ]
     },
     "execution_count": 76,
     "metadata": {},
     "output_type": "execute_result"
    }
   ],
   "source": [
    "sorted(list(enumerate(shows_similarity[2])), reverse=True, key=lambda x: x[1])[:6]"
   ]
  },
  {
   "cell_type": "code",
   "execution_count": 77,
   "id": "0725045c-9dc2-492a-b94a-fb2c4cd06dc9",
   "metadata": {},
   "outputs": [
    {
     "data": {
      "text/plain": [
       "1193"
      ]
     },
     "execution_count": 77,
     "metadata": {},
     "output_type": "execute_result"
    }
   ],
   "source": [
    "sorted(list(enumerate(shows_similarity[2])), reverse=True, key=lambda x: x[1])[:6][2][0]"
   ]
  },
  {
   "cell_type": "code",
   "execution_count": 78,
   "id": "b929e91d-b90b-4e7e-a2b2-a1b48bfaa4db",
   "metadata": {},
   "outputs": [
    {
     "data": {
      "text/plain": [
       "'The Final Table'"
      ]
     },
     "execution_count": 78,
     "metadata": {},
     "output_type": "execute_result"
    }
   ],
   "source": [
    "shows_p.iloc[1193]['title']"
   ]
  },
  {
   "cell_type": "code",
   "execution_count": 79,
   "id": "b9696585-a8f9-45cc-87e6-50d45ecbf22d",
   "metadata": {},
   "outputs": [],
   "source": [
    "def recommend(show_name):\n",
    "    show_index = shows_p[shows_p['title'] == show_name].index[0]\n",
    "    distances_array = shows_similarity[show_index]\n",
    "    similar_5_shows = sorted(list(enumerate(distances_array)), reverse=True, key=lambda x: x[1])[:6]\n",
    "    for idx in similar_5_shows:\n",
    "        print(shows_p.iloc[idx[0]]['title'])"
   ]
  },
  {
   "cell_type": "code",
   "execution_count": 80,
   "id": "7b3cbc43-dd48-4f50-bdc3-82835b187eaf",
   "metadata": {},
   "outputs": [
    {
     "name": "stdout",
     "output_type": "stream",
     "text": [
      "Zindagi Gulzar Hai\n",
      "Love Me As I Am\n",
      "Humsafar\n",
      "Eternal Love\n",
      "Intersection\n",
      "Meteor Garden\n"
     ]
    }
   ],
   "source": [
    "recommend(\"Zak Storm\")"
   ]
  },
  {
   "cell_type": "markdown",
   "id": "41f08bf5-f129-439a-b270-020d891dba02",
   "metadata": {},
   "source": [
    "## Movie Recommendation"
   ]
  },
  {
   "cell_type": "code",
   "execution_count": 81,
   "id": "110a46c4-13e7-47df-a4a2-e5c76647ceb7",
   "metadata": {},
   "outputs": [],
   "source": [
    "movies_p = movies_p.reset_index(drop=True)\n",
    "movies_p.index = movies_p.index + 1"
   ]
  },
  {
   "cell_type": "code",
   "execution_count": 82,
   "id": "6f5d6ad1-60e3-4fe9-b9a4-531df92b2008",
   "metadata": {},
   "outputs": [
    {
     "data": {
      "text/html": [
       "<div>\n",
       "<style scoped>\n",
       "    .dataframe tbody tr th:only-of-type {\n",
       "        vertical-align: middle;\n",
       "    }\n",
       "\n",
       "    .dataframe tbody tr th {\n",
       "        vertical-align: top;\n",
       "    }\n",
       "\n",
       "    .dataframe thead th {\n",
       "        text-align: right;\n",
       "    }\n",
       "</style>\n",
       "<table border=\"1\" class=\"dataframe\">\n",
       "  <thead>\n",
       "    <tr style=\"text-align: right;\">\n",
       "      <th></th>\n",
       "      <th>title</th>\n",
       "      <th>tags</th>\n",
       "    </tr>\n",
       "  </thead>\n",
       "  <tbody>\n",
       "    <tr>\n",
       "      <th>1</th>\n",
       "      <td>Sankofa</td>\n",
       "      <td>on a photo shoot in ghana, an american model s...</td>\n",
       "    </tr>\n",
       "    <tr>\n",
       "      <th>2</th>\n",
       "      <td>The Starling</td>\n",
       "      <td>a woman adjust to life after a loss contend wi...</td>\n",
       "    </tr>\n",
       "    <tr>\n",
       "      <th>3</th>\n",
       "      <td>Je Suis Karl</td>\n",
       "      <td>after most of her famili is murder in a terror...</td>\n",
       "    </tr>\n",
       "    <tr>\n",
       "      <th>4</th>\n",
       "      <td>Jeans</td>\n",
       "      <td>when the father of the man she love insist tha...</td>\n",
       "    </tr>\n",
       "    <tr>\n",
       "      <th>5</th>\n",
       "      <td>Grown Ups</td>\n",
       "      <td>mourn the loss of their belov junior high bask...</td>\n",
       "    </tr>\n",
       "    <tr>\n",
       "      <th>...</th>\n",
       "      <td>...</td>\n",
       "      <td>...</td>\n",
       "    </tr>\n",
       "    <tr>\n",
       "      <th>5185</th>\n",
       "      <td>Zinzana</td>\n",
       "      <td>recov alcohol talal wake up insid a small-town...</td>\n",
       "    </tr>\n",
       "    <tr>\n",
       "      <th>5186</th>\n",
       "      <td>Zodiac</td>\n",
       "      <td>a polit cartoonist, a crime report and a pair ...</td>\n",
       "    </tr>\n",
       "    <tr>\n",
       "      <th>5187</th>\n",
       "      <td>Zombieland</td>\n",
       "      <td>look to surviv in a world taken over by zombie...</td>\n",
       "    </tr>\n",
       "    <tr>\n",
       "      <th>5188</th>\n",
       "      <td>Zoom</td>\n",
       "      <td>drag from civilian life, a former superhero mu...</td>\n",
       "    </tr>\n",
       "    <tr>\n",
       "      <th>5189</th>\n",
       "      <td>Zubaan</td>\n",
       "      <td>a scrappi but poor boy worm hi way into a tyco...</td>\n",
       "    </tr>\n",
       "  </tbody>\n",
       "</table>\n",
       "<p>5189 rows × 2 columns</p>\n",
       "</div>"
      ],
      "text/plain": [
       "             title                                               tags\n",
       "1          Sankofa  on a photo shoot in ghana, an american model s...\n",
       "2     The Starling  a woman adjust to life after a loss contend wi...\n",
       "3     Je Suis Karl  after most of her famili is murder in a terror...\n",
       "4            Jeans  when the father of the man she love insist tha...\n",
       "5        Grown Ups  mourn the loss of their belov junior high bask...\n",
       "...            ...                                                ...\n",
       "5185       Zinzana  recov alcohol talal wake up insid a small-town...\n",
       "5186        Zodiac  a polit cartoonist, a crime report and a pair ...\n",
       "5187    Zombieland  look to surviv in a world taken over by zombie...\n",
       "5188          Zoom  drag from civilian life, a former superhero mu...\n",
       "5189        Zubaan  a scrappi but poor boy worm hi way into a tyco...\n",
       "\n",
       "[5189 rows x 2 columns]"
      ]
     },
     "execution_count": 82,
     "metadata": {},
     "output_type": "execute_result"
    }
   ],
   "source": [
    "movies_p"
   ]
  },
  {
   "cell_type": "code",
   "execution_count": 83,
   "id": "f49ff95c-0392-42a6-b46b-a31b842f9a31",
   "metadata": {},
   "outputs": [
    {
     "data": {
      "text/plain": [
       "np.int64(5188)"
      ]
     },
     "execution_count": 83,
     "metadata": {},
     "output_type": "execute_result"
    }
   ],
   "source": [
    "movies_p[movies_p['title'] == 'Zoom'].index[0]"
   ]
  },
  {
   "cell_type": "code",
   "execution_count": 85,
   "id": "5bd2ac30-7e95-4e43-8694-55490635c500",
   "metadata": {},
   "outputs": [],
   "source": [
    "def recommend(movie_name):\n",
    "    movie_index = movies_p[movies_p['title'] == movie_name].index[0]\n",
    "    distances_array = movies_similarity[movie_index]\n",
    "    similar_5_movies = sorted(list(enumerate(distances_array)), reverse= True, key=lambda x:x[1])[1:6]\n",
    "    for idx in similar_5_movies:\n",
    "        print(movies_p.iloc[idx[0]]['title'])"
   ]
  },
  {
   "cell_type": "code",
   "execution_count": 87,
   "id": "6154200a-7980-4e0f-bb11-25866dd7f539",
   "metadata": {},
   "outputs": [
    {
     "name": "stdout",
     "output_type": "stream",
     "text": [
      "The Player\n",
      "Night of Knots\n",
      "Just Say Yes\n",
      "Christmas Wedding Planner\n",
      "Baby Dolls\n"
     ]
    }
   ],
   "source": [
    "recommend(\"Kuch Kuch Hota Hai\")"
   ]
  },
  {
   "cell_type": "code",
   "execution_count": null,
   "id": "1802c44f-8fa3-46a9-802d-c2de0599afd5",
   "metadata": {},
   "outputs": [],
   "source": []
  },
  {
   "cell_type": "code",
   "execution_count": null,
   "id": "33ad4f28-515c-4f49-978b-00a4fe691142",
   "metadata": {},
   "outputs": [],
   "source": []
  }
 ],
 "metadata": {
  "kernelspec": {
   "display_name": "Python 3 (ipykernel)",
   "language": "python",
   "name": "python3"
  },
  "language_info": {
   "codemirror_mode": {
    "name": "ipython",
    "version": 3
   },
   "file_extension": ".py",
   "mimetype": "text/x-python",
   "name": "python",
   "nbconvert_exporter": "python",
   "pygments_lexer": "ipython3",
   "version": "3.10.0"
  }
 },
 "nbformat": 4,
 "nbformat_minor": 5
}
